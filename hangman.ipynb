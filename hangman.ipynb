{
 "cells": [
  {
   "cell_type": "code",
   "execution_count": 1,
   "id": "26520f92-979a-45da-9d2a-2e2227de5e2a",
   "metadata": {},
   "outputs": [
    {
     "name": "stdout",
     "output_type": "stream",
     "text": [
      "Welcome to Hangman!\n",
      "_ _ _ _ _ \n"
     ]
    },
    {
     "name": "stdin",
     "output_type": "stream",
     "text": [
      "Guess a letter:  a\n"
     ]
    },
    {
     "name": "stdout",
     "output_type": "stream",
     "text": [
      "Correct!\n",
      "_ _ a _ _\n"
     ]
    },
    {
     "name": "stdin",
     "output_type": "stream",
     "text": [
      "Guess a letter:  n\n"
     ]
    },
    {
     "name": "stdout",
     "output_type": "stream",
     "text": [
      "Correct!\n",
      "_ _ a _ n\n"
     ]
    },
    {
     "name": "stdin",
     "output_type": "stream",
     "text": [
      "Guess a letter:  r\n"
     ]
    },
    {
     "name": "stdout",
     "output_type": "stream",
     "text": [
      "Correct!\n",
      "_ r a _ n\n"
     ]
    },
    {
     "name": "stdin",
     "output_type": "stream",
     "text": [
      "Guess a letter:  t\n"
     ]
    },
    {
     "name": "stdout",
     "output_type": "stream",
     "text": [
      "Correct!\n",
      "t r a _ n\n"
     ]
    },
    {
     "name": "stdin",
     "output_type": "stream",
     "text": [
      "Guess a letter:  i\n"
     ]
    },
    {
     "name": "stdout",
     "output_type": "stream",
     "text": [
      "Correct!\n",
      "t r a i n\n",
      "Congratulations! The word was: train\n"
     ]
    }
   ],
   "source": [
    "import random\n",
    "\n",
    "# List of 5 predefined words\n",
    "words = ['apple', 'train', 'cloud', 'house', 'plant']\n",
    "\n",
    "# Randomly select a word\n",
    "word = random.choice(words)\n",
    "word_letters = list(word)             # List of letters in the word\n",
    "guessed_letters = []                  # Correctly guessed letters\n",
    "wrong_guesses = []                    # Incorrect guesses\n",
    "max_attempts = 6\n",
    "\n",
    "print(\"Welcome to Hangman!\")\n",
    "print(\"_ \" * len(word))\n",
    "\n",
    "# Main game loop\n",
    "while len(wrong_guesses) < max_attempts and set(guessed_letters) != set(word_letters):\n",
    "    guess = input(\"Guess a letter: \").lower()\n",
    "    \n",
    "    # Ensure single alphabetic character\n",
    "    if len(guess) != 1 or not guess.isalpha():\n",
    "        print(\"Enter a single letter only.\")\n",
    "        continue\n",
    "    \n",
    "    if guess in guessed_letters or guess in wrong_guesses:\n",
    "        print(\"Already guessed that letter.\")\n",
    "        continue\n",
    "\n",
    "    if guess in word_letters:\n",
    "        guessed_letters.append(guess)\n",
    "        print(\"Correct!\")\n",
    "    else:\n",
    "        wrong_guesses.append(guess)\n",
    "        print(\"Wrong! Attempts left:\", max_attempts - len(wrong_guesses))\n",
    "    \n",
    "    # Show revealed word so far\n",
    "    display = [letter if letter in guessed_letters else '_' for letter in word]\n",
    "    print(\" \".join(display))\n",
    "\n",
    "# End of game: Win/Loss message\n",
    "if set(guessed_letters) == set(word_letters):\n",
    "    print(\"Congratulations! The word was:\", word)\n",
    "else:\n",
    "    print(\"Sorry, you lost! The word was:\", word)\n"
   ]
  },
  {
   "cell_type": "code",
   "execution_count": null,
   "id": "17a6d027-9c6e-41fd-b9ea-1c6023bf2d59",
   "metadata": {},
   "outputs": [],
   "source": []
  }
 ],
 "metadata": {
  "kernelspec": {
   "display_name": "Python [conda env:base] *",
   "language": "python",
   "name": "conda-base-py"
  },
  "language_info": {
   "codemirror_mode": {
    "name": "ipython",
    "version": 3
   },
   "file_extension": ".py",
   "mimetype": "text/x-python",
   "name": "python",
   "nbconvert_exporter": "python",
   "pygments_lexer": "ipython3",
   "version": "3.12.7"
  }
 },
 "nbformat": 4,
 "nbformat_minor": 5
}
